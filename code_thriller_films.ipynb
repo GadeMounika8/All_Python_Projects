{
 "cells": [
  {
   "cell_type": "code",
   "execution_count": 46,
   "id": "373c7070",
   "metadata": {},
   "outputs": [],
   "source": [
    "import numpy as np\n",
    "import pandas as pd\n",
    "from bs4 import BeautifulSoup\n",
    "import requests, openpyxl\n",
    "from time import sleep\n",
    "from random import randint\n",
    "import re"
   ]
  },
  {
   "cell_type": "code",
   "execution_count": 47,
   "id": "4eef6aa2",
   "metadata": {},
   "outputs": [],
   "source": [
    "excel = openpyxl.Workbook()\n",
    "worksheet = excel.active\n",
    "worksheet.title = \"Thrller Films\"\n",
    "worksheet.append(['S.No', 'Film Name', 'Year of Release', 'IMDB Rating', 'Story', 'Director Name', 'Film Length'])"
   ]
  },
  {
   "cell_type": "code",
   "execution_count": 48,
   "id": "b832b48c",
   "metadata": {},
   "outputs": [],
   "source": [
    "headers = {\"Language-Acceptance\": \"en-US,en;q=0.5\"}"
   ]
  },
  {
   "cell_type": "code",
   "execution_count": 49,
   "id": "7a5ca17a",
   "metadata": {},
   "outputs": [],
   "source": [
    "pages = np.arange(1,1000,50)"
   ]
  },
  {
   "cell_type": "code",
   "execution_count": 50,
   "id": "ba6376ff",
   "metadata": {},
   "outputs": [],
   "source": [
    "for page in pages:\n",
    "    page = requests.get(\"https://www.imdb.com/search/title/?title_type=feature&num_votes=25000,&genres=thriller&sort=user_rating,desc&start=\"+str(page)+\"&ref_=adv_nxt\", headers = headers)\n",
    "    soup = BeautifulSoup(page.text, 'html.parser')\n",
    "    films = soup.find(\"div\", class_ = \"lister-list\").find_all(\"div\", class_ = \"lister-item\")\n",
    "    \n",
    "\n",
    "    for film in films:\n",
    "        \n",
    "        #print(film)\n",
    "        s_no = film.find('h3').find('span', class_ = 'lister-item-index unbold text-primary').get_text(strip = True).replace('.', \"\")\n",
    "        film_name = film.find('h3').a.text\n",
    "        Year = film.find('h3').find('span', class_ = 'lister-item-year text-muted unbold').text.replace('(',\"\")\n",
    "        Year = Year.replace(')', \"\")                                                                                     \n",
    "        rating = film.find('div', class_ = 'inline-block ratings-imdb-rating').strong.text\n",
    "        story = film.find('p').findNext('p').get_text(strip = True)\n",
    "        Director_Name = film.find('p').findNext('p').findNext('p').a.text\n",
    "        # Gross = film.find('p', class_ = 'sort-num_votes-visible').find_all('span')[-1].get_text()\n",
    "        # Gross = re.sub('/$\\d*_\\d*/M',\"\", Gross)\n",
    "        duration = film.find('p').find('span', class_ = 'runtime').text.replace('min',\"\")\n",
    "        # print(s_no, film_name, Year, rating, story, Director_Name, duration)\n",
    "        worksheet.append([s_no, film_name, Year, rating, story, Director_Name, duration])\n",
    "        #break   \n"
   ]
  },
  {
   "cell_type": "code",
   "execution_count": 51,
   "id": "64718782",
   "metadata": {},
   "outputs": [],
   "source": [
    "excel.save(\"1000_thrillerfilms_list.xlsx\")"
   ]
  }
 ],
 "metadata": {
  "kernelspec": {
   "display_name": "Python 3 (ipykernel)",
   "language": "python",
   "name": "python3"
  },
  "language_info": {
   "codemirror_mode": {
    "name": "ipython",
    "version": 3
   },
   "file_extension": ".py",
   "mimetype": "text/x-python",
   "name": "python",
   "nbconvert_exporter": "python",
   "pygments_lexer": "ipython3",
   "version": "3.9.13"
  }
 },
 "nbformat": 4,
 "nbformat_minor": 5
}
